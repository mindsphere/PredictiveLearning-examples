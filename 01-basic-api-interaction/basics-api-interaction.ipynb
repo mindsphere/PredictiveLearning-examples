{
 "cells": [
  {
   "cell_type": "markdown",
   "id": "048cfd8c",
   "metadata": {},
   "source": [
    "# Interact with MindSphere APIs\n",
    "## Predictive Learning - Getting Started Code Snippets\n",
    "\n",
    "Short overview on how to authenticate inside Predictive Learning against MindSphere Services (APIs) and use them in your notebook.  \n",
    "\n",
    "### How it works\n",
    "- Predictive Learning provices base URL in an environment variable. This can be accessed via ```os.environ[\"GATEWAY_ENDPOINT\"]```\n",
    "- In the Service URL, ```api``` has to be replaced with ```gateway```.  \n",
    "  For Asset-Management Service, the base URL then e.g. changes as follows:  \n",
    "  | Base URL Asset Management [general] | Base URL Asset Management [in PRL] |\n",
    "  | --- | --- | \n",
    "  | ```/api/assetmanagement/v3```  | ```/gateway/assetmanagement/v3``` |\n",
    "  \n",
    "  the full request then goes against  \n",
    "  ```https://prl-internal-gateway-prod.analytics.eu-central.internal.mindsphere.io:8443/gateway/assetmanagement/v3/<Service>```  \n",
    "  Likewise this pattern needs to be followed for any other API endpoint. \n",
    "\n",
    "### Resources\n",
    "- [MindSphere Analytical APIs](https://developer.mindsphere.io/apis/index.html#analytics-services) \n"
   ]
  },
  {
   "cell_type": "markdown",
   "id": "6eaeea93",
   "metadata": {},
   "source": [
    "## Setup (install libraries, config endpoints)"
   ]
  },
  {
   "cell_type": "code",
   "execution_count": null,
   "id": "33b09925",
   "metadata": {
    "scrolled": true
   },
   "outputs": [],
   "source": [
    "!python3 -m pip install requests urllib --user"
   ]
  },
  {
   "cell_type": "code",
   "execution_count": null,
   "id": "78d0228b",
   "metadata": {},
   "outputs": [],
   "source": [
    "#init services\n",
    "import os\n",
    "import requests\n",
    "import urllib.parse\n",
    "# import base64\n",
    "# from pathlib import Path\n",
    "# import pyarrow as pa\n",
    "# import io\n",
    "import json\n",
    "\n",
    "service_urls = {\n",
    "    \"base\": os.environ[\"GATEWAY_ENDPOINT\"] + \"/gateway\",\n",
    "    \"AM-services\": \"/assetmanagement/v3\",\n",
    "    \"IDL-services\": \"/datalake/v3\",\n",
    "    \"IDL-generateUploadObjectUrls\": \"/generateUploadObjectUrls\",\n",
    "    \"IDL-generateDownloadObjectUrls\": \"/generateDownloadObjectUrls\",\n",
    "    \"IDL-objects\": \"/objects\",\n",
    "    \"AM-assets\": \"/assets\"\n",
    "}\n",
    "\n",
    "# headers for idl requests\n",
    "headers_idl = {\n",
    "    \"Accept\": \"*/*\",\n",
    "    \"Accept-Encoding\": \"gzip, deflate, br\",\n",
    "    \"Connection\": \"keep-alive\",\n",
    "    \"Content-Type\": \"application/json\",\n",
    "}"
   ]
  },
  {
   "cell_type": "markdown",
   "id": "6c6fc84f",
   "metadata": {},
   "source": [
    "## 1 - Asset List"
   ]
  },
  {
   "cell_type": "code",
   "execution_count": null,
   "id": "e2257b02",
   "metadata": {},
   "outputs": [],
   "source": [
    "#example to show asset-list for tenant\n",
    "\n",
    "# specifiy service URL\n",
    "ServiceUrl = f\"{service_urls['base']}{service_urls['AM-services']}{service_urls['AM-assets']}?&size=100\"\n",
    "\n",
    "response = requests.get(ServiceUrl)\n",
    "\n",
    "response_data = json.loads(response.text)\n",
    "\n",
    "#check and print response\n",
    "if response.status_code == 200:\n",
    "    if not response_data.get(\"_embedded\"): \n",
    "        print ('[200] - OK, but could not read JSON response propperly (error!)')\n",
    "    else:\n",
    "        print ('[200] - OK, root level asset list retrived')\n",
    "        #save response for further processing\n",
    "        rootAssetList = response_data.get(\"_embedded\").get(\"assets\")\n",
    "               \n",
    "        print(\"Asset-Overview:\")\n",
    "        print(\"{0:40} {1:40} {2:30}\".format(\"Name\", \"Asset-ID\", \"Type\"))\n",
    "        print(\"=\"*100)\n",
    "\n",
    "        for asset in rootAssetList:  \n",
    "            currentAssetId = asset[\"assetId\"]\n",
    "            print(\"{0:40} {1:40} {2:30}\".format(asset.get(\"name\"), asset.get(\"assetId\"), asset.get(\"typeId\")))\n",
    "                \n",
    "else:\n",
    "    print('Error querying asset list:')\n",
    "    print(response.status_code)\n",
    "    pprint.pprint(response_data)"
   ]
  },
  {
   "cell_type": "markdown",
   "id": "11956fc2",
   "metadata": {},
   "source": [
    "## 1 - IDL files"
   ]
  },
  {
   "cell_type": "code",
   "execution_count": null,
   "id": "ce9f643b",
   "metadata": {},
   "outputs": [],
   "source": [
    "#idl_path = \"path/to/folder\"\n",
    "# note: this path DOES NOT start with 'data/ten=<youtTenant>'\n",
    "idl_path = \"/\"  #e.g. \"/myData/myProject/machineData1\"\n",
    "        \n",
    "# specifiy service URL and body\n",
    "ServiceUrl = f\"{service_urls['base']}{service_urls['IDL-services']}{service_urls['IDL-objects']}\"\n",
    "body = {\"path\": idl_path} \n",
    "\n",
    "# GET request\n",
    "response = requests.get(ServiceUrl, data)\n",
    "\n",
    "# loop through response\n",
    "objs = [\n",
    "    obj[\"path\"].split(\"ten=\")[-1].split(\"/\", maxsplit=1)[-1]\n",
    "    for obj in response.json()[\"objects\"]\n",
    "]\n",
    "\n",
    "# Only 1000 objects are returned for each request. Using page.nextToken\n",
    "while \"page\" in r_obj:\n",
    "    # update params with page.nextToken for the next request\n",
    "    params[\"pageToken\"] = r.json()[\"page\"][\"nextToken\"]\n",
    "    r_obj = requets.get(\n",
    "        f\"{urls['base']}/{urls['objects']}\", params=params, headers=headers_idl\n",
    "    )\n",
    "    objs += [\n",
    "        obj[\"path\"].split(\"ten=\")[-1].split(\"/\", maxsplit=1)[-1]\n",
    "        for obj in r_obj.json()[\"objects\"]\n",
    "    ]\n",
    "\n",
    "response_data = json.loads(r_obj.text)\n",
    "print(response_data)"
   ]
  }
 ],
 "metadata": {
  "kernelspec": {
   "display_name": "Python 3",
   "language": "python",
   "name": "python3"
  },
  "language_info": {
   "codemirror_mode": {
    "name": "ipython",
    "version": 3
   },
   "file_extension": ".py",
   "mimetype": "text/x-python",
   "name": "python",
   "nbconvert_exporter": "python",
   "pygments_lexer": "ipython3",
   "version": "3.6.12"
  }
 },
 "nbformat": 4,
 "nbformat_minor": 5
}
