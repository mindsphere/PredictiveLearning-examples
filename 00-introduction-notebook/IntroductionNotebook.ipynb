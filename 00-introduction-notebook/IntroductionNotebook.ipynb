{
 "cells": [
  {
   "cell_type": "code",
   "execution_count": null,
   "metadata": {},
   "outputs": [],
   "source": [
    "# Installing and updating(-U) Python packages is done using pip in a Python paragraph. \n",
    "# Pip will install all requirements for your package.*/\n",
    "\n",
    "# !pip install --user <package>\n",
    "\n",
    "# When uninstalling packages, you have to add -y at the end of the line.\n",
    "# !pip uninstall eva -y\n",
    "\n",
    "# In order to list all Python available libraries, the user can invoke\n",
    "# !pip freeze\n",
    "# or \n",
    "# !pip list.\n",
    "\n",
    "# In order to list user-manageable libraries, the user can invoke\n",
    "# !pip list --user\n",
    "# or \n",
    "# !pip freeze --user"
   ]
  },
  {
   "cell_type": "markdown",
   "metadata": {},
   "source": [
    "# Interact with MindSphere APIs\n",
    "## Predictive Learning - Getting Started Code Snippets\n",
    "\n",
    "Short overview on how to authenticate inside Predictive Learning against MindSphere Services (APIs) and use them in your notebook. \n",
    "\n",
    "### How it works\n",
    "- Predictive Learning provices base URL in an environment variable. This can be accessed via ```os.environ[\"GATEWAY_ENDPOINT\"]```\n",
    "- In the Service URL, ```api``` has to be replaced with ```gateway```.  \n",
    "  For Asset-Management Service, the base URL then e.g. changes as follows:  \n",
    "  | Base URL Asset Management [general] | Base URL Asset Management [in PRL] |\n",
    "  | --- | --- | \n",
    "  | ```/api/assetmanagement/v3```  | ```/gateway/assetmanagement/v3``` |\n",
    "  \n",
    "  the full request then goes against  \n",
    "  ```https://prl-internal-gateway-prod.analytics.eu-central.internal.mindsphere.io:8443/gateway/assetmanagement/v3/<Service>```  \n",
    "  Likewise this pattern needs to be followed for any other API endpoint. \n",
    "\n",
    "### Resources\n",
    "- [MindSphere Analytical APIs](https://developer.mindsphere.io/apis/index.html#analytics-services) \n"
   ]
  },
  {
   "cell_type": "code",
   "execution_count": null,
   "metadata": {},
   "outputs": [],
   "source": [
    "# Install Packages example\n",
    "!pip install --user bokeh"
   ]
  },
  {
   "cell_type": "code",
   "execution_count": null,
   "metadata": {},
   "outputs": [],
   "source": [
    "# Uninstall Package example\n",
    "!pip uninstall bokeh -y"
   ]
  },
  {
   "cell_type": "code",
   "execution_count": null,
   "metadata": {},
   "outputs": [],
   "source": [
    "# Update Packages example\n",
    "!pip install --user bokeh -U"
   ]
  },
  {
   "cell_type": "code",
   "execution_count": null,
   "metadata": {},
   "outputs": [],
   "source": [
    "# Listing all system (including user) Python libraries\n",
    "!pip list\n",
    "#!pip freeze"
   ]
  },
  {
   "cell_type": "code",
   "execution_count": null,
   "metadata": {},
   "outputs": [],
   "source": [
    "# Listing all user libraries (removable, updateable)\n",
    "!pip list --user\n",
    "#!pip freeze --user"
   ]
  },
  {
   "cell_type": "code",
   "execution_count": null,
   "metadata": {},
   "outputs": [],
   "source": [
    "# Invoking MindSphere services is possible by directly invoking the targetted service.\n",
    "# In order to invoke the desired service, the prefix $GATEWAY-ENDPOINT/gateway needs to be appended.\n"
   ]
  }
 ],
 "metadata": {
  "kernelspec": {
   "display_name": "Python 2",
   "language": "python",
   "name": "python2"
  },
  "language_info": {
   "codemirror_mode": {
    "name": "ipython",
    "version": 2
   },
   "file_extension": ".py",
   "mimetype": "text/x-python",
   "name": "python",
   "nbconvert_exporter": "python",
   "pygments_lexer": "ipython2",
   "version": "2.7.16"
  }
 },
 "nbformat": 4,
 "nbformat_minor": 2
}
